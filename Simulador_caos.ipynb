{
  "nbformat": 4,
  "nbformat_minor": 0,
  "metadata": {
    "colab": {
      "provenance": [],
      "authorship_tag": "ABX9TyO7hqiQ9r/vuTLnGGE+3VNQ",
      "include_colab_link": true
    },
    "kernelspec": {
      "name": "python3",
      "display_name": "Python 3"
    },
    "language_info": {
      "name": "python"
    }
  },
  "cells": [
    {
      "cell_type": "markdown",
      "metadata": {
        "id": "view-in-github",
        "colab_type": "text"
      },
      "source": [
        "<a href=\"https://colab.research.google.com/github/jcoghi/Python/blob/main/Simulador_caos.ipynb\" target=\"_parent\"><img src=\"https://colab.research.google.com/assets/colab-badge.svg\" alt=\"Open In Colab\"/></a>"
      ]
    },
    {
      "cell_type": "code",
      "execution_count": null,
      "metadata": {
        "colab": {
          "base_uri": "https://localhost:8080/",
          "height": 386
        },
        "id": "aSpX-0xPDfHw",
        "outputId": "f997283f-455f-4389-f644-85915c27de2e"
      },
      "outputs": [
        {
          "output_type": "execute_result",
          "data": {
            "text/plain": [
              "<seaborn.axisgrid.FacetGrid at 0x7f4de11cbe50>"
            ]
          },
          "metadata": {},
          "execution_count": 1
        },
        {
          "output_type": "display_data",
          "data": {
            "text/plain": [
              "<Figure size 360x360 with 1 Axes>"
            ],
            "image/png": "[encoded data removed]"
          },
          "metadata": {
            "needs_background": "light"
          }
        }
      ],
      "source": [
        "from random import choice\n",
        "from random import shuffle\n",
        "import seaborn as sns\n",
        "\n",
        "class Academia:\n",
        "    def __init__(self):\n",
        "        self.halteres = [i for i in range(10, 36) if i % 2 == 0]\n",
        "        self.porta_halteres = {}\n",
        "        self.reiniciar_o_dia()\n",
        "    \n",
        "    def reiniciar_o_dia(self):\n",
        "        self.porta_halteres = {i: i for i in self.halteres}\n",
        "\n",
        "    def listar_halteres(self):\n",
        "        return [i for i in list(self.porta_halteres.values()) if i != 0]\n",
        "\n",
        "    def listar_espacos(self):\n",
        "        return [i for i, j in self.porta_halteres.items() if j == 0]\n",
        "\n",
        "    def pegar_halter(self, peso):\n",
        "        halt_pos = list(self.porta_halteres.values()).index(peso)\n",
        "        key_halt = list(self.porta_halteres.keys())[halt_pos]\n",
        "        self.porta_halteres[key_halt] = 0\n",
        "        return peso\n",
        "    \n",
        "    def devolver_halter(self, pos, peso):\n",
        "        self.porta_halteres[pos] = peso\n",
        "    \n",
        "    def calcular_caos(self):\n",
        "        num_caos = [i for i,j in self.porta_halteres.items() if i != j]\n",
        "        return len(num_caos) / len(self.porta_halteres)\n",
        "\n",
        "class Usuario:\n",
        "    def __init__(self, tipo, academia):\n",
        "        self.tipo = tipo # 1 normal e 2 bagunceiro\n",
        "        self.academia = academia\n",
        "        self.peso = 0\n",
        "\n",
        "    def iniciar_treino(self):\n",
        "        lista_pesos = self.academia.listar_halteres()\n",
        "        self.peso = choice(lista_pesos)\n",
        "        self.academia.pegar_halter(self.peso)\n",
        "    \n",
        "    def finalizar_treino(self):\n",
        "        espacos = self.academia.listar_espacos()\n",
        "        if self.tipo == 1:\n",
        "            if self.peso in espacos:\n",
        "                self.academia.devolver_halter(self.peso, self.peso)\n",
        "            else:\n",
        "                pos = choice(espacos)\n",
        "                self.academia.devolver_halter(pos, self.peso)\n",
        "        if self.tipo == 2:\n",
        "            pos = choice(espacos)\n",
        "            self.academia.devolver_halter(pos, self.peso)\n",
        "        self.peso = 0\n",
        "\n",
        "academia = Academia()\n",
        "\n",
        "usuarios = [Usuario(1, academia) for i in range(9)]\n",
        "usuarios += [Usuario(2, academia) for i in range(1)]\n",
        "shuffle(usuarios)\n",
        "\n",
        "list_caos = []\n",
        "\n",
        "for k in range(50):\n",
        "    academia.reiniciar_o_dia()\n",
        "    for i in range(10):\n",
        "        shuffle(usuarios)\n",
        "        for user in usuarios:\n",
        "            user.iniciar_treino()\n",
        "        for user in usuarios:\n",
        "            user.finalizar_treino()\n",
        "    list_caos += [academia.calcular_caos()]\n",
        "\n",
        "\n",
        "sns.displot(list_caos)"
      ]
    }
  ]
}
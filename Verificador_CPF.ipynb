# Entrada do CPF
cpf = input('Entre com os números do CPF: ')

cpf = cpf.replace("-",".")
cpf = cpf.replace(".","")

soma_1 = 0
soma_2 = 0
cont_1 = 10
cont_2 = 11
n = 0
n2 = 0

if cpf.isnumeric() and len(cpf) == 11:
    while n < 9:
        soma_1 = int(cpf[n]) * cont_1 + soma_1
        cont_1 = cont_1 - 1
        n = n + 1
    primeiro_digito = 11 - soma_1 % 11
    
    if primeiro_digito == 10:
        primeiro_digito = 0

    if primeiro_digito == int(cpf[9]):
        while n2 < 10:
            soma_2 = int(cpf[n2]) * cont_2 + soma_2
            cont_2 = cont_2 - 1
            n2 = n2 + 1
        segundo_digito = 11 - soma_2 % 11

        if segundo_digito == 10:
            segundo_digito = 0
        print('O CPF {} é Válido'.format(cpf))
    else:
        print('CPF não é válido')    

else:
    print("Informe um CPF.")
